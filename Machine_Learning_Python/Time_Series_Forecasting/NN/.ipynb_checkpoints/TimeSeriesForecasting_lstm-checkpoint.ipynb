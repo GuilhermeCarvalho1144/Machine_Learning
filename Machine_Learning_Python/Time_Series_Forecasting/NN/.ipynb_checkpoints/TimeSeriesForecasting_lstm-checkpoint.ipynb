{
 "cells": [
  {
   "cell_type": "code",
   "execution_count": 19,
   "metadata": {
    "colab": {
     "base_uri": "https://localhost:8080/"
    },
    "executionInfo": {
     "elapsed": 131729,
     "status": "ok",
     "timestamp": 1641307793429,
     "user": {
      "displayName": "Guilherme Pereira",
      "photoUrl": "https://lh3.googleusercontent.com/a-/AOh14GiJeTA-Tb3G82peSFm9v4JRrXNbSL-XgXuXvtVGyA=s64",
      "userId": "18176795272890215445"
     },
     "user_tz": 180
    },
    "id": "ieXAvFygNuaH",
    "outputId": "db886a2e-aa0a-49db-87a9-1a473be06eb4"
   },
   "outputs": [
    {
     "name": "stdout",
     "output_type": "stream",
     "text": [
      "Archive:  /content/drive/MyDrive/Colab_Notebooks/archive.zip\n",
      "replace AirPassengers.csv? [y]es, [n]o, [A]ll, [N]one, [r]ename: y\n",
      "  inflating: AirPassengers.csv       \n"
     ]
    }
   ],
   "source": [
    "#only whem ussing colab\n",
    "! unzip /content/drive/MyDrive/Colab_Notebooks/archive.zip"
   ]
  },
  {
   "cell_type": "code",
   "execution_count": 20,
   "metadata": {
    "executionInfo": {
     "elapsed": 18,
     "status": "ok",
     "timestamp": 1641307793431,
     "user": {
      "displayName": "Guilherme Pereira",
      "photoUrl": "https://lh3.googleusercontent.com/a-/AOh14GiJeTA-Tb3G82peSFm9v4JRrXNbSL-XgXuXvtVGyA=s64",
      "userId": "18176795272890215445"
     },
     "user_tz": 180
    },
    "id": "OGKfnf1OPg5a"
   },
   "outputs": [],
   "source": [
    "import numpy as np\n",
    "import pandas as pd\n",
    "import matplotlib.pyplot as plt\n",
    "import seaborn as sns\n",
    "sns.set_style('dark')"
   ]
  },
  {
   "cell_type": "code",
   "execution_count": 21,
   "metadata": {
    "colab": {
     "base_uri": "https://localhost:8080/",
     "height": 206
    },
    "executionInfo": {
     "elapsed": 17,
     "status": "ok",
     "timestamp": 1641307793431,
     "user": {
      "displayName": "Guilherme Pereira",
      "photoUrl": "https://lh3.googleusercontent.com/a-/AOh14GiJeTA-Tb3G82peSFm9v4JRrXNbSL-XgXuXvtVGyA=s64",
      "userId": "18176795272890215445"
     },
     "user_tz": 180
    },
    "id": "qNDe9Sy4QRX3",
    "outputId": "68bdb5d9-0842-47a7-db3c-0163adc8ed31"
   },
   "outputs": [
    {
     "data": {
      "text/html": [
       "\n",
       "  <div id=\"df-71d22f22-b805-487f-911a-95d8677a9089\">\n",
       "    <div class=\"colab-df-container\">\n",
       "      <div>\n",
       "<style scoped>\n",
       "    .dataframe tbody tr th:only-of-type {\n",
       "        vertical-align: middle;\n",
       "    }\n",
       "\n",
       "    .dataframe tbody tr th {\n",
       "        vertical-align: top;\n",
       "    }\n",
       "\n",
       "    .dataframe thead th {\n",
       "        text-align: right;\n",
       "    }\n",
       "</style>\n",
       "<table border=\"1\" class=\"dataframe\">\n",
       "  <thead>\n",
       "    <tr style=\"text-align: right;\">\n",
       "      <th></th>\n",
       "      <th>#Passengers</th>\n",
       "    </tr>\n",
       "  </thead>\n",
       "  <tbody>\n",
       "    <tr>\n",
       "      <th>0</th>\n",
       "      <td>112</td>\n",
       "    </tr>\n",
       "    <tr>\n",
       "      <th>1</th>\n",
       "      <td>118</td>\n",
       "    </tr>\n",
       "    <tr>\n",
       "      <th>2</th>\n",
       "      <td>132</td>\n",
       "    </tr>\n",
       "    <tr>\n",
       "      <th>3</th>\n",
       "      <td>129</td>\n",
       "    </tr>\n",
       "    <tr>\n",
       "      <th>4</th>\n",
       "      <td>121</td>\n",
       "    </tr>\n",
       "  </tbody>\n",
       "</table>\n",
       "</div>\n",
       "      <button class=\"colab-df-convert\" onclick=\"convertToInteractive('df-71d22f22-b805-487f-911a-95d8677a9089')\"\n",
       "              title=\"Convert this dataframe to an interactive table.\"\n",
       "              style=\"display:none;\">\n",
       "        \n",
       "  <svg xmlns=\"http://www.w3.org/2000/svg\" height=\"24px\"viewBox=\"0 0 24 24\"\n",
       "       width=\"24px\">\n",
       "    <path d=\"M0 0h24v24H0V0z\" fill=\"none\"/>\n",
       "    <path d=\"M18.56 5.44l.94 2.06.94-2.06 2.06-.94-2.06-.94-.94-2.06-.94 2.06-2.06.94zm-11 1L8.5 8.5l.94-2.06 2.06-.94-2.06-.94L8.5 2.5l-.94 2.06-2.06.94zm10 10l.94 2.06.94-2.06 2.06-.94-2.06-.94-.94-2.06-.94 2.06-2.06.94z\"/><path d=\"M17.41 7.96l-1.37-1.37c-.4-.4-.92-.59-1.43-.59-.52 0-1.04.2-1.43.59L10.3 9.45l-7.72 7.72c-.78.78-.78 2.05 0 2.83L4 21.41c.39.39.9.59 1.41.59.51 0 1.02-.2 1.41-.59l7.78-7.78 2.81-2.81c.8-.78.8-2.07 0-2.86zM5.41 20L4 18.59l7.72-7.72 1.47 1.35L5.41 20z\"/>\n",
       "  </svg>\n",
       "      </button>\n",
       "      \n",
       "  <style>\n",
       "    .colab-df-container {\n",
       "      display:flex;\n",
       "      flex-wrap:wrap;\n",
       "      gap: 12px;\n",
       "    }\n",
       "\n",
       "    .colab-df-convert {\n",
       "      background-color: #E8F0FE;\n",
       "      border: none;\n",
       "      border-radius: 50%;\n",
       "      cursor: pointer;\n",
       "      display: none;\n",
       "      fill: #1967D2;\n",
       "      height: 32px;\n",
       "      padding: 0 0 0 0;\n",
       "      width: 32px;\n",
       "    }\n",
       "\n",
       "    .colab-df-convert:hover {\n",
       "      background-color: #E2EBFA;\n",
       "      box-shadow: 0px 1px 2px rgba(60, 64, 67, 0.3), 0px 1px 3px 1px rgba(60, 64, 67, 0.15);\n",
       "      fill: #174EA6;\n",
       "    }\n",
       "\n",
       "    [theme=dark] .colab-df-convert {\n",
       "      background-color: #3B4455;\n",
       "      fill: #D2E3FC;\n",
       "    }\n",
       "\n",
       "    [theme=dark] .colab-df-convert:hover {\n",
       "      background-color: #434B5C;\n",
       "      box-shadow: 0px 1px 3px 1px rgba(0, 0, 0, 0.15);\n",
       "      filter: drop-shadow(0px 1px 2px rgba(0, 0, 0, 0.3));\n",
       "      fill: #FFFFFF;\n",
       "    }\n",
       "  </style>\n",
       "\n",
       "      <script>\n",
       "        const buttonEl =\n",
       "          document.querySelector('#df-71d22f22-b805-487f-911a-95d8677a9089 button.colab-df-convert');\n",
       "        buttonEl.style.display =\n",
       "          google.colab.kernel.accessAllowed ? 'block' : 'none';\n",
       "\n",
       "        async function convertToInteractive(key) {\n",
       "          const element = document.querySelector('#df-71d22f22-b805-487f-911a-95d8677a9089');\n",
       "          const dataTable =\n",
       "            await google.colab.kernel.invokeFunction('convertToInteractive',\n",
       "                                                     [key], {});\n",
       "          if (!dataTable) return;\n",
       "\n",
       "          const docLinkHtml = 'Like what you see? Visit the ' +\n",
       "            '<a target=\"_blank\" href=https://colab.research.google.com/notebooks/data_table.ipynb>data table notebook</a>'\n",
       "            + ' to learn more about interactive tables.';\n",
       "          element.innerHTML = '';\n",
       "          dataTable['output_type'] = 'display_data';\n",
       "          await google.colab.output.renderOutput(dataTable, element);\n",
       "          const docLink = document.createElement('div');\n",
       "          docLink.innerHTML = docLinkHtml;\n",
       "          element.appendChild(docLink);\n",
       "        }\n",
       "      </script>\n",
       "    </div>\n",
       "  </div>\n",
       "  "
      ],
      "text/plain": [
       "   #Passengers\n",
       "0          112\n",
       "1          118\n",
       "2          132\n",
       "3          129\n",
       "4          121"
      ]
     },
     "execution_count": 21,
     "metadata": {},
     "output_type": "execute_result"
    }
   ],
   "source": [
    "df = pd.read_csv('/content/AirPassengers.csv', usecols=[1])\n",
    "df.head()"
   ]
  },
  {
   "cell_type": "code",
   "execution_count": 22,
   "metadata": {
    "colab": {
     "base_uri": "https://localhost:8080/",
     "height": 282
    },
    "executionInfo": {
     "elapsed": 503,
     "status": "ok",
     "timestamp": 1641307793919,
     "user": {
      "displayName": "Guilherme Pereira",
      "photoUrl": "https://lh3.googleusercontent.com/a-/AOh14GiJeTA-Tb3G82peSFm9v4JRrXNbSL-XgXuXvtVGyA=s64",
      "userId": "18176795272890215445"
     },
     "user_tz": 180
    },
    "id": "GmvT4nTGGwmA",
    "outputId": "a4e4536c-69b5-4dda-f64d-43cc6a087925"
   },
   "outputs": [
    {
     "data": {
      "text/plain": [
       "<matplotlib.axes._subplots.AxesSubplot at 0x7f1c72ae1dd0>"
      ]
     },
     "execution_count": 22,
     "metadata": {},
     "output_type": "execute_result"
    },
    {
     "data": {
      "image/png": "[encoded data removed]",
      "text/plain": [
       "<Figure size 432x288 with 1 Axes>"
      ]
     },
     "metadata": {},
     "output_type": "display_data"
    }
   ],
   "source": [
    "df.plot()"
   ]
  },
  {
   "cell_type": "code",
   "execution_count": 23,
   "metadata": {
    "executionInfo": {
     "elapsed": 13,
     "status": "ok",
     "timestamp": 1641307793919,
     "user": {
      "displayName": "Guilherme Pereira",
      "photoUrl": "https://lh3.googleusercontent.com/a-/AOh14GiJeTA-Tb3G82peSFm9v4JRrXNbSL-XgXuXvtVGyA=s64",
      "userId": "18176795272890215445"
     },
     "user_tz": 180
    },
    "id": "0C-F031oGy6I"
   },
   "outputs": [],
   "source": [
    "# ML libs\n",
    "import tensorflow as tf\n",
    "import keras\n",
    "from tensorflow.keras.models import Sequential\n",
    "from tensorflow.keras.layers import Dense, LSTM\n",
    "from sklearn.preprocessing import MinMaxScaler\n",
    "from sklearn.metrics import mean_squared_error "
   ]
  },
  {
   "cell_type": "code",
   "execution_count": 24,
   "metadata": {
    "colab": {
     "base_uri": "https://localhost:8080/"
    },
    "executionInfo": {
     "elapsed": 13,
     "status": "ok",
     "timestamp": 1641307793920,
     "user": {
      "displayName": "Guilherme Pereira",
      "photoUrl": "https://lh3.googleusercontent.com/a-/AOh14GiJeTA-Tb3G82peSFm9v4JRrXNbSL-XgXuXvtVGyA=s64",
      "userId": "18176795272890215445"
     },
     "user_tz": 180
    },
    "id": "XY-EzmAqHt4h",
    "outputId": "3d128351-c65c-4457-df63-39b63f057716"
   },
   "outputs": [
    {
     "name": "stdout",
     "output_type": "stream",
     "text": [
      "[[0.01544401]\n",
      " [0.02702703]\n",
      " [0.05405405]\n",
      " [0.04826255]\n",
      " [0.03281853]\n",
      " [0.05984557]\n",
      " [0.08494207]\n",
      " [0.08494207]\n",
      " [0.06177607]\n",
      " [0.02895753]]\n"
     ]
    }
   ],
   "source": [
    "#preprcessing\n",
    "dataset = df.values\n",
    "dataset = dataset.astype('float32')\n",
    "scaler = MinMaxScaler(feature_range=(0,1))\n",
    "dataset_scaled = scaler.fit_transform(dataset)\n",
    "print(dataset_scaled[:10])"
   ]
  },
  {
   "cell_type": "code",
   "execution_count": 25,
   "metadata": {
    "colab": {
     "base_uri": "https://localhost:8080/"
    },
    "executionInfo": {
     "elapsed": 12,
     "status": "ok",
     "timestamp": 1641307793921,
     "user": {
      "displayName": "Guilherme Pereira",
      "photoUrl": "https://lh3.googleusercontent.com/a-/AOh14GiJeTA-Tb3G82peSFm9v4JRrXNbSL-XgXuXvtVGyA=s64",
      "userId": "18176795272890215445"
     },
     "user_tz": 180
    },
    "id": "UvJD2-XcIRdD",
    "outputId": "0c99d912-49ba-41af-a933-c113b07dd81f"
   },
   "outputs": [
    {
     "name": "stdout",
     "output_type": "stream",
     "text": [
      "train size: 95\n",
      "test size: 49\n"
     ]
    }
   ],
   "source": [
    "#train test split\n",
    "train_size = int(len(dataset_scaled)*0.66)\n",
    "dataset_train, dataset_test = dataset_scaled[:train_size], dataset_scaled[train_size:]\n",
    "print(f'train size: {dataset_train.size}')\n",
    "print(f'test size: {dataset_test.size}')"
   ]
  },
  {
   "cell_type": "code",
   "execution_count": 26,
   "metadata": {
    "colab": {
     "base_uri": "https://localhost:8080/"
    },
    "executionInfo": {
     "elapsed": 10,
     "status": "ok",
     "timestamp": 1641307793921,
     "user": {
      "displayName": "Guilherme Pereira",
      "photoUrl": "https://lh3.googleusercontent.com/a-/AOh14GiJeTA-Tb3G82peSFm9v4JRrXNbSL-XgXuXvtVGyA=s64",
      "userId": "18176795272890215445"
     },
     "user_tz": 180
    },
    "id": "3NNtVmAuJTGH",
    "outputId": "62495090-b5c5-4cc0-89e5-d0c438a790bd"
   },
   "outputs": [
    {
     "name": "stdout",
     "output_type": "stream",
     "text": [
      "Train dataset set size (89, 1, 5)\n",
      "Test dataset set size (43, 1, 5)\n"
     ]
    }
   ],
   "source": [
    "#generating sequences\n",
    "def to_sequence(dataset, seq_size=1):\n",
    "  x = []\n",
    "  y = []\n",
    "  for i in range(len(dataset)-seq_size-1):\n",
    "    x.append(dataset[i:i+seq_size,0])\n",
    "    y.append(dataset[i+seq_size])\n",
    "  return np.array(x), np.array(y)\n",
    "\n",
    "SEQ_SIZE = 5\n",
    "train_x, train_y = to_sequence(dataset_train, SEQ_SIZE)\n",
    "test_x, test_y = to_sequence(dataset_test, SEQ_SIZE)\n",
    "\n",
    "\n",
    "train_x = np.reshape(train_x, (train_x.shape[0],1, train_x.shape[1]))\n",
    "test_x = np.reshape(test_x, (test_x.shape[0],1, test_x.shape[1]))\n",
    "\n",
    "\n",
    "print(f'Train dataset set size {train_x.shape}')\n",
    "print(f'Test dataset set size {test_x.shape}')"
   ]
  },
  {
   "cell_type": "code",
   "execution_count": 47,
   "metadata": {
    "colab": {
     "base_uri": "https://localhost:8080/"
    },
    "executionInfo": {
     "elapsed": 335,
     "status": "ok",
     "timestamp": 1641308127059,
     "user": {
      "displayName": "Guilherme Pereira",
      "photoUrl": "https://lh3.googleusercontent.com/a-/AOh14GiJeTA-Tb3G82peSFm9v4JRrXNbSL-XgXuXvtVGyA=s64",
      "userId": "18176795272890215445"
     },
     "user_tz": 180
    },
    "id": "6BP5KbZ7UYOP",
    "outputId": "c7e4308f-3a79-4724-f3df-8bc90aabf34d"
   },
   "outputs": [
    {
     "name": "stdout",
     "output_type": "stream",
     "text": [
      "Model: \"sequential_6\"\n",
      "_________________________________________________________________\n",
      " Layer (type)                Output Shape              Param #   \n",
      "=================================================================\n",
      " lstm_5 (LSTM)               (None, None, 128)         68608     \n",
      "                                                                 \n",
      " lstm_6 (LSTM)               (None, 128)               131584    \n",
      "                                                                 \n",
      " dense_12 (Dense)            (None, 64)                8256      \n",
      "                                                                 \n",
      " dense_13 (Dense)            (None, 16)                1040      \n",
      "                                                                 \n",
      " dense_14 (Dense)            (None, 1)                 17        \n",
      "                                                                 \n",
      "=================================================================\n",
      "Total params: 209,505\n",
      "Trainable params: 209,505\n",
      "Non-trainable params: 0\n",
      "_________________________________________________________________\n"
     ]
    }
   ],
   "source": [
    "#Building models\n",
    "model = Sequential()\n",
    "model.add(LSTM(128, input_shape=(None, SEQ_SIZE), return_sequences=True, activation='relu'))\n",
    "model.add(LSTM(128, activation='relu'))\n",
    "model.add(Dense(64, activation='relu'))\n",
    "model.add(Dense(16, activation='relu'))\n",
    "model.add(Dense(1))\n",
    "model.compile(loss='mean_squared_error', optimizer='adam', metrics=['acc'])\n",
    "model.summary()"
   ]
  },
  {
   "cell_type": "code",
   "execution_count": 48,
   "metadata": {
    "colab": {
     "base_uri": "https://localhost:8080/"
    },
    "executionInfo": {
     "elapsed": 9242,
     "status": "ok",
     "timestamp": 1641308139838,
     "user": {
      "displayName": "Guilherme Pereira",
      "photoUrl": "https://lh3.googleusercontent.com/a-/AOh14GiJeTA-Tb3G82peSFm9v4JRrXNbSL-XgXuXvtVGyA=s64",
      "userId": "18176795272890215445"
     },
     "user_tz": 180
    },
    "id": "0m06GU37XL29",
    "outputId": "564955dd-cd4a-44ab-c515-38ac308a25f4"
   },
   "outputs": [
    {
     "name": "stdout",
     "output_type": "stream",
     "text": [
      "Epoch 1/100\n",
      "3/3 - 4s - loss: 0.0638 - acc: 0.0112 - val_loss: 0.3699 - val_acc: 0.0000e+00 - 4s/epoch - 1s/step\n",
      "Epoch 2/100\n",
      "3/3 - 0s - loss: 0.0553 - acc: 0.0112 - val_loss: 0.3404 - val_acc: 0.0000e+00 - 36ms/epoch - 12ms/step\n",
      "Epoch 3/100\n",
      "3/3 - 0s - loss: 0.0464 - acc: 0.0112 - val_loss: 0.3080 - val_acc: 0.0000e+00 - 38ms/epoch - 13ms/step\n",
      "Epoch 4/100\n",
      "3/3 - 0s - loss: 0.0380 - acc: 0.0112 - val_loss: 0.2719 - val_acc: 0.0000e+00 - 36ms/epoch - 12ms/step\n",
      "Epoch 5/100\n",
      "3/3 - 0s - loss: 0.0299 - acc: 0.0112 - val_loss: 0.2322 - val_acc: 0.0000e+00 - 37ms/epoch - 12ms/step\n",
      "Epoch 6/100\n",
      "3/3 - 0s - loss: 0.0226 - acc: 0.0112 - val_loss: 0.1896 - val_acc: 0.0000e+00 - 36ms/epoch - 12ms/step\n",
      "Epoch 7/100\n",
      "3/3 - 0s - loss: 0.0175 - acc: 0.0112 - val_loss: 0.1464 - val_acc: 0.0000e+00 - 38ms/epoch - 13ms/step\n",
      "Epoch 8/100\n",
      "3/3 - 0s - loss: 0.0145 - acc: 0.0112 - val_loss: 0.1085 - val_acc: 0.0000e+00 - 40ms/epoch - 13ms/step\n",
      "Epoch 9/100\n",
      "3/3 - 0s - loss: 0.0145 - acc: 0.0112 - val_loss: 0.0823 - val_acc: 0.0000e+00 - 33ms/epoch - 11ms/step\n",
      "Epoch 10/100\n",
      "3/3 - 0s - loss: 0.0151 - acc: 0.0112 - val_loss: 0.0731 - val_acc: 0.0000e+00 - 46ms/epoch - 15ms/step\n",
      "Epoch 11/100\n",
      "3/3 - 0s - loss: 0.0148 - acc: 0.0112 - val_loss: 0.0740 - val_acc: 0.0000e+00 - 42ms/epoch - 14ms/step\n",
      "Epoch 12/100\n",
      "3/3 - 0s - loss: 0.0134 - acc: 0.0112 - val_loss: 0.0823 - val_acc: 0.0000e+00 - 39ms/epoch - 13ms/step\n",
      "Epoch 13/100\n",
      "3/3 - 0s - loss: 0.0123 - acc: 0.0112 - val_loss: 0.0908 - val_acc: 0.0000e+00 - 42ms/epoch - 14ms/step\n",
      "Epoch 14/100\n",
      "3/3 - 0s - loss: 0.0115 - acc: 0.0112 - val_loss: 0.0920 - val_acc: 0.0000e+00 - 38ms/epoch - 13ms/step\n",
      "Epoch 15/100\n",
      "3/3 - 0s - loss: 0.0109 - acc: 0.0112 - val_loss: 0.0835 - val_acc: 0.0000e+00 - 54ms/epoch - 18ms/step\n",
      "Epoch 16/100\n",
      "3/3 - 0s - loss: 0.0101 - acc: 0.0112 - val_loss: 0.0699 - val_acc: 0.0000e+00 - 36ms/epoch - 12ms/step\n",
      "Epoch 17/100\n",
      "3/3 - 0s - loss: 0.0090 - acc: 0.0112 - val_loss: 0.0548 - val_acc: 0.0000e+00 - 36ms/epoch - 12ms/step\n",
      "Epoch 18/100\n",
      "3/3 - 0s - loss: 0.0083 - acc: 0.0112 - val_loss: 0.0395 - val_acc: 0.0233 - 43ms/epoch - 14ms/step\n",
      "Epoch 19/100\n",
      "3/3 - 0s - loss: 0.0073 - acc: 0.0112 - val_loss: 0.0317 - val_acc: 0.0233 - 33ms/epoch - 11ms/step\n",
      "Epoch 20/100\n",
      "3/3 - 0s - loss: 0.0065 - acc: 0.0112 - val_loss: 0.0277 - val_acc: 0.0233 - 34ms/epoch - 11ms/step\n",
      "Epoch 21/100\n",
      "3/3 - 0s - loss: 0.0058 - acc: 0.0112 - val_loss: 0.0266 - val_acc: 0.0233 - 36ms/epoch - 12ms/step\n",
      "Epoch 22/100\n",
      "3/3 - 0s - loss: 0.0052 - acc: 0.0112 - val_loss: 0.0257 - val_acc: 0.0233 - 39ms/epoch - 13ms/step\n",
      "Epoch 23/100\n",
      "3/3 - 0s - loss: 0.0048 - acc: 0.0112 - val_loss: 0.0253 - val_acc: 0.0233 - 42ms/epoch - 14ms/step\n",
      "Epoch 24/100\n",
      "3/3 - 0s - loss: 0.0044 - acc: 0.0112 - val_loss: 0.0268 - val_acc: 0.0233 - 38ms/epoch - 13ms/step\n",
      "Epoch 25/100\n",
      "3/3 - 0s - loss: 0.0042 - acc: 0.0112 - val_loss: 0.0301 - val_acc: 0.0233 - 33ms/epoch - 11ms/step\n",
      "Epoch 26/100\n",
      "3/3 - 0s - loss: 0.0041 - acc: 0.0112 - val_loss: 0.0338 - val_acc: 0.0233 - 43ms/epoch - 14ms/step\n",
      "Epoch 27/100\n",
      "3/3 - 0s - loss: 0.0041 - acc: 0.0112 - val_loss: 0.0338 - val_acc: 0.0233 - 38ms/epoch - 13ms/step\n",
      "Epoch 28/100\n",
      "3/3 - 0s - loss: 0.0041 - acc: 0.0112 - val_loss: 0.0327 - val_acc: 0.0233 - 39ms/epoch - 13ms/step\n",
      "Epoch 29/100\n",
      "3/3 - 0s - loss: 0.0040 - acc: 0.0112 - val_loss: 0.0331 - val_acc: 0.0233 - 39ms/epoch - 13ms/step\n",
      "Epoch 30/100\n",
      "3/3 - 0s - loss: 0.0040 - acc: 0.0112 - val_loss: 0.0306 - val_acc: 0.0233 - 39ms/epoch - 13ms/step\n",
      "Epoch 31/100\n",
      "3/3 - 0s - loss: 0.0039 - acc: 0.0112 - val_loss: 0.0285 - val_acc: 0.0233 - 42ms/epoch - 14ms/step\n",
      "Epoch 32/100\n",
      "3/3 - 0s - loss: 0.0038 - acc: 0.0112 - val_loss: 0.0276 - val_acc: 0.0233 - 36ms/epoch - 12ms/step\n",
      "Epoch 33/100\n",
      "3/3 - 0s - loss: 0.0037 - acc: 0.0112 - val_loss: 0.0274 - val_acc: 0.0233 - 39ms/epoch - 13ms/step\n",
      "Epoch 34/100\n",
      "3/3 - 0s - loss: 0.0037 - acc: 0.0112 - val_loss: 0.0250 - val_acc: 0.0233 - 39ms/epoch - 13ms/step\n",
      "Epoch 35/100\n",
      "3/3 - 0s - loss: 0.0037 - acc: 0.0112 - val_loss: 0.0243 - val_acc: 0.0233 - 39ms/epoch - 13ms/step\n",
      "Epoch 36/100\n",
      "3/3 - 0s - loss: 0.0036 - acc: 0.0112 - val_loss: 0.0224 - val_acc: 0.0233 - 39ms/epoch - 13ms/step\n",
      "Epoch 37/100\n",
      "3/3 - 0s - loss: 0.0036 - acc: 0.0112 - val_loss: 0.0223 - val_acc: 0.0233 - 41ms/epoch - 14ms/step\n",
      "Epoch 38/100\n",
      "3/3 - 0s - loss: 0.0035 - acc: 0.0112 - val_loss: 0.0222 - val_acc: 0.0233 - 38ms/epoch - 13ms/step\n",
      "Epoch 39/100\n",
      "3/3 - 0s - loss: 0.0034 - acc: 0.0112 - val_loss: 0.0227 - val_acc: 0.0233 - 45ms/epoch - 15ms/step\n",
      "Epoch 40/100\n",
      "3/3 - 0s - loss: 0.0034 - acc: 0.0112 - val_loss: 0.0226 - val_acc: 0.0233 - 38ms/epoch - 13ms/step\n",
      "Epoch 41/100\n",
      "3/3 - 0s - loss: 0.0034 - acc: 0.0112 - val_loss: 0.0208 - val_acc: 0.0233 - 49ms/epoch - 16ms/step\n",
      "Epoch 42/100\n",
      "3/3 - 0s - loss: 0.0034 - acc: 0.0112 - val_loss: 0.0202 - val_acc: 0.0233 - 47ms/epoch - 16ms/step\n",
      "Epoch 43/100\n",
      "3/3 - 0s - loss: 0.0033 - acc: 0.0112 - val_loss: 0.0208 - val_acc: 0.0233 - 39ms/epoch - 13ms/step\n",
      "Epoch 44/100\n",
      "3/3 - 0s - loss: 0.0032 - acc: 0.0112 - val_loss: 0.0201 - val_acc: 0.0233 - 38ms/epoch - 13ms/step\n",
      "Epoch 45/100\n",
      "3/3 - 0s - loss: 0.0032 - acc: 0.0112 - val_loss: 0.0197 - val_acc: 0.0233 - 38ms/epoch - 13ms/step\n",
      "Epoch 46/100\n",
      "3/3 - 0s - loss: 0.0031 - acc: 0.0112 - val_loss: 0.0184 - val_acc: 0.0233 - 39ms/epoch - 13ms/step\n",
      "Epoch 47/100\n",
      "3/3 - 0s - loss: 0.0031 - acc: 0.0112 - val_loss: 0.0181 - val_acc: 0.0233 - 52ms/epoch - 17ms/step\n",
      "Epoch 48/100\n",
      "3/3 - 0s - loss: 0.0030 - acc: 0.0112 - val_loss: 0.0181 - val_acc: 0.0233 - 35ms/epoch - 12ms/step\n",
      "Epoch 49/100\n",
      "3/3 - 0s - loss: 0.0030 - acc: 0.0112 - val_loss: 0.0180 - val_acc: 0.0233 - 38ms/epoch - 13ms/step\n",
      "Epoch 50/100\n",
      "3/3 - 0s - loss: 0.0029 - acc: 0.0112 - val_loss: 0.0169 - val_acc: 0.0233 - 41ms/epoch - 14ms/step\n",
      "Epoch 51/100\n",
      "3/3 - 0s - loss: 0.0029 - acc: 0.0112 - val_loss: 0.0166 - val_acc: 0.0233 - 40ms/epoch - 13ms/step\n",
      "Epoch 52/100\n",
      "3/3 - 0s - loss: 0.0029 - acc: 0.0112 - val_loss: 0.0162 - val_acc: 0.0233 - 38ms/epoch - 13ms/step\n",
      "Epoch 53/100\n",
      "3/3 - 0s - loss: 0.0028 - acc: 0.0112 - val_loss: 0.0158 - val_acc: 0.0233 - 39ms/epoch - 13ms/step\n",
      "Epoch 54/100\n",
      "3/3 - 0s - loss: 0.0028 - acc: 0.0112 - val_loss: 0.0155 - val_acc: 0.0233 - 36ms/epoch - 12ms/step\n",
      "Epoch 55/100\n",
      "3/3 - 0s - loss: 0.0028 - acc: 0.0112 - val_loss: 0.0150 - val_acc: 0.0233 - 37ms/epoch - 12ms/step\n",
      "Epoch 56/100\n",
      "3/3 - 0s - loss: 0.0027 - acc: 0.0112 - val_loss: 0.0149 - val_acc: 0.0233 - 38ms/epoch - 13ms/step\n",
      "Epoch 57/100\n",
      "3/3 - 0s - loss: 0.0026 - acc: 0.0112 - val_loss: 0.0147 - val_acc: 0.0233 - 48ms/epoch - 16ms/step\n",
      "Epoch 58/100\n",
      "3/3 - 0s - loss: 0.0027 - acc: 0.0112 - val_loss: 0.0141 - val_acc: 0.0233 - 39ms/epoch - 13ms/step\n",
      "Epoch 59/100\n",
      "3/3 - 0s - loss: 0.0026 - acc: 0.0112 - val_loss: 0.0140 - val_acc: 0.0233 - 55ms/epoch - 18ms/step\n",
      "Epoch 60/100\n",
      "3/3 - 0s - loss: 0.0025 - acc: 0.0112 - val_loss: 0.0136 - val_acc: 0.0233 - 33ms/epoch - 11ms/step\n",
      "Epoch 61/100\n",
      "3/3 - 0s - loss: 0.0025 - acc: 0.0112 - val_loss: 0.0133 - val_acc: 0.0233 - 35ms/epoch - 12ms/step\n",
      "Epoch 62/100\n",
      "3/3 - 0s - loss: 0.0025 - acc: 0.0112 - val_loss: 0.0130 - val_acc: 0.0233 - 37ms/epoch - 12ms/step\n",
      "Epoch 63/100\n",
      "3/3 - 0s - loss: 0.0024 - acc: 0.0112 - val_loss: 0.0128 - val_acc: 0.0233 - 34ms/epoch - 11ms/step\n",
      "Epoch 64/100\n",
      "3/3 - 0s - loss: 0.0024 - acc: 0.0112 - val_loss: 0.0125 - val_acc: 0.0233 - 31ms/epoch - 10ms/step\n",
      "Epoch 65/100\n",
      "3/3 - 0s - loss: 0.0024 - acc: 0.0112 - val_loss: 0.0122 - val_acc: 0.0233 - 44ms/epoch - 15ms/step\n",
      "Epoch 66/100\n",
      "3/3 - 0s - loss: 0.0023 - acc: 0.0112 - val_loss: 0.0119 - val_acc: 0.0233 - 37ms/epoch - 12ms/step\n",
      "Epoch 67/100\n",
      "3/3 - 0s - loss: 0.0023 - acc: 0.0112 - val_loss: 0.0117 - val_acc: 0.0233 - 33ms/epoch - 11ms/step\n",
      "Epoch 68/100\n",
      "3/3 - 0s - loss: 0.0023 - acc: 0.0112 - val_loss: 0.0115 - val_acc: 0.0233 - 34ms/epoch - 11ms/step\n",
      "Epoch 69/100\n",
      "3/3 - 0s - loss: 0.0023 - acc: 0.0112 - val_loss: 0.0112 - val_acc: 0.0233 - 35ms/epoch - 12ms/step\n",
      "Epoch 70/100\n",
      "3/3 - 0s - loss: 0.0022 - acc: 0.0112 - val_loss: 0.0110 - val_acc: 0.0233 - 34ms/epoch - 11ms/step\n",
      "Epoch 71/100\n",
      "3/3 - 0s - loss: 0.0022 - acc: 0.0112 - val_loss: 0.0109 - val_acc: 0.0233 - 42ms/epoch - 14ms/step\n",
      "Epoch 72/100\n",
      "3/3 - 0s - loss: 0.0022 - acc: 0.0112 - val_loss: 0.0109 - val_acc: 0.0233 - 39ms/epoch - 13ms/step\n",
      "Epoch 73/100\n",
      "3/3 - 0s - loss: 0.0022 - acc: 0.0112 - val_loss: 0.0107 - val_acc: 0.0233 - 44ms/epoch - 15ms/step\n",
      "Epoch 74/100\n",
      "3/3 - 0s - loss: 0.0021 - acc: 0.0112 - val_loss: 0.0104 - val_acc: 0.0233 - 38ms/epoch - 13ms/step\n",
      "Epoch 75/100\n",
      "3/3 - 0s - loss: 0.0021 - acc: 0.0112 - val_loss: 0.0104 - val_acc: 0.0233 - 42ms/epoch - 14ms/step\n",
      "Epoch 76/100\n",
      "3/3 - 0s - loss: 0.0021 - acc: 0.0112 - val_loss: 0.0101 - val_acc: 0.0233 - 37ms/epoch - 12ms/step\n",
      "Epoch 77/100\n",
      "3/3 - 0s - loss: 0.0021 - acc: 0.0112 - val_loss: 0.0101 - val_acc: 0.0233 - 38ms/epoch - 13ms/step\n",
      "Epoch 78/100\n",
      "3/3 - 0s - loss: 0.0021 - acc: 0.0112 - val_loss: 0.0105 - val_acc: 0.0233 - 38ms/epoch - 13ms/step\n",
      "Epoch 79/100\n",
      "3/3 - 0s - loss: 0.0022 - acc: 0.0112 - val_loss: 0.0097 - val_acc: 0.0233 - 55ms/epoch - 18ms/step\n",
      "Epoch 80/100\n",
      "3/3 - 0s - loss: 0.0020 - acc: 0.0112 - val_loss: 0.0106 - val_acc: 0.0233 - 39ms/epoch - 13ms/step\n",
      "Epoch 81/100\n",
      "3/3 - 0s - loss: 0.0020 - acc: 0.0112 - val_loss: 0.0103 - val_acc: 0.0233 - 40ms/epoch - 13ms/step\n",
      "Epoch 82/100\n",
      "3/3 - 0s - loss: 0.0020 - acc: 0.0112 - val_loss: 0.0096 - val_acc: 0.0233 - 41ms/epoch - 14ms/step\n",
      "Epoch 83/100\n",
      "3/3 - 0s - loss: 0.0021 - acc: 0.0112 - val_loss: 0.0095 - val_acc: 0.0233 - 42ms/epoch - 14ms/step\n",
      "Epoch 84/100\n",
      "3/3 - 0s - loss: 0.0020 - acc: 0.0112 - val_loss: 0.0105 - val_acc: 0.0233 - 39ms/epoch - 13ms/step\n",
      "Epoch 85/100\n",
      "3/3 - 0s - loss: 0.0020 - acc: 0.0112 - val_loss: 0.0099 - val_acc: 0.0233 - 39ms/epoch - 13ms/step\n",
      "Epoch 86/100\n",
      "3/3 - 0s - loss: 0.0020 - acc: 0.0112 - val_loss: 0.0090 - val_acc: 0.0233 - 36ms/epoch - 12ms/step\n",
      "Epoch 87/100\n",
      "3/3 - 0s - loss: 0.0020 - acc: 0.0112 - val_loss: 0.0098 - val_acc: 0.0233 - 37ms/epoch - 12ms/step\n",
      "Epoch 88/100\n",
      "3/3 - 0s - loss: 0.0019 - acc: 0.0112 - val_loss: 0.0097 - val_acc: 0.0233 - 37ms/epoch - 12ms/step\n",
      "Epoch 89/100\n",
      "3/3 - 0s - loss: 0.0019 - acc: 0.0112 - val_loss: 0.0091 - val_acc: 0.0233 - 47ms/epoch - 16ms/step\n",
      "Epoch 90/100\n",
      "3/3 - 0s - loss: 0.0021 - acc: 0.0112 - val_loss: 0.0100 - val_acc: 0.0233 - 42ms/epoch - 14ms/step\n",
      "Epoch 91/100\n",
      "3/3 - 0s - loss: 0.0020 - acc: 0.0112 - val_loss: 0.0087 - val_acc: 0.0233 - 37ms/epoch - 12ms/step\n",
      "Epoch 92/100\n",
      "3/3 - 0s - loss: 0.0019 - acc: 0.0112 - val_loss: 0.0099 - val_acc: 0.0233 - 38ms/epoch - 13ms/step\n",
      "Epoch 93/100\n",
      "3/3 - 0s - loss: 0.0020 - acc: 0.0112 - val_loss: 0.0103 - val_acc: 0.0233 - 37ms/epoch - 12ms/step\n",
      "Epoch 94/100\n",
      "3/3 - 0s - loss: 0.0019 - acc: 0.0112 - val_loss: 0.0086 - val_acc: 0.0233 - 43ms/epoch - 14ms/step\n",
      "Epoch 95/100\n",
      "3/3 - 0s - loss: 0.0019 - acc: 0.0112 - val_loss: 0.0091 - val_acc: 0.0233 - 50ms/epoch - 17ms/step\n",
      "Epoch 96/100\n",
      "3/3 - 0s - loss: 0.0019 - acc: 0.0112 - val_loss: 0.0096 - val_acc: 0.0233 - 37ms/epoch - 12ms/step\n",
      "Epoch 97/100\n",
      "3/3 - 0s - loss: 0.0019 - acc: 0.0112 - val_loss: 0.0084 - val_acc: 0.0233 - 39ms/epoch - 13ms/step\n",
      "Epoch 98/100\n",
      "3/3 - 0s - loss: 0.0019 - acc: 0.0112 - val_loss: 0.0091 - val_acc: 0.0233 - 37ms/epoch - 12ms/step\n",
      "Epoch 99/100\n",
      "3/3 - 0s - loss: 0.0019 - acc: 0.0112 - val_loss: 0.0095 - val_acc: 0.0233 - 37ms/epoch - 12ms/step\n",
      "Epoch 100/100\n",
      "3/3 - 0s - loss: 0.0018 - acc: 0.0112 - val_loss: 0.0087 - val_acc: 0.0233 - 38ms/epoch - 13ms/step\n"
     ]
    },
    {
     "data": {
      "text/plain": [
       "<keras.callbacks.History at 0x7f1c6a5dee50>"
      ]
     },
     "execution_count": 48,
     "metadata": {},
     "output_type": "execute_result"
    }
   ],
   "source": [
    "model.fit(train_x, train_y, validation_data=(test_x, test_y), epochs=100, verbose=2)"
   ]
  },
  {
   "cell_type": "code",
   "execution_count": 49,
   "metadata": {
    "colab": {
     "base_uri": "https://localhost:8080/"
    },
    "executionInfo": {
     "elapsed": 475,
     "status": "ok",
     "timestamp": 1641308140306,
     "user": {
      "displayName": "Guilherme Pereira",
      "photoUrl": "https://lh3.googleusercontent.com/a-/AOh14GiJeTA-Tb3G82peSFm9v4JRrXNbSL-XgXuXvtVGyA=s64",
      "userId": "18176795272890215445"
     },
     "user_tz": 180
    },
    "id": "ZvzT3uqYaeC7",
    "outputId": "37912641-292f-4dd7-8ec2-6c02a432e8fd"
   },
   "outputs": [
    {
     "name": "stdout",
     "output_type": "stream",
     "text": [
      "Train RMSE 22.192947998938905\n",
      "Test RMSE 48.20016327902856\n"
     ]
    }
   ],
   "source": [
    "predict_train = model.predict(train_x)\n",
    "predict_test = model.predict(test_x)\n",
    "\n",
    "predict_train = scaler.inverse_transform(predict_train)\n",
    "predict_test = scaler.inverse_transform(predict_test)\n",
    "\n",
    "train_y_inverse = scaler.inverse_transform([train_y[:,0]])\n",
    "test_y_inverse = scaler.inverse_transform([test_y[:,0]])\n",
    "\n",
    "\n",
    "train_score = np.sqrt(mean_squared_error(train_y_inverse[0], predict_train[:,0]))\n",
    "test_score = np.sqrt(mean_squared_error(test_y_inverse[0], predict_test[:,0]))\n",
    "\n",
    "print(f'Train RMSE {train_score}')\n",
    "print(f'Test RMSE {test_score}')"
   ]
  },
  {
   "cell_type": "code",
   "execution_count": 50,
   "metadata": {
    "colab": {
     "base_uri": "https://localhost:8080/",
     "height": 282
    },
    "executionInfo": {
     "elapsed": 456,
     "status": "ok",
     "timestamp": 1641308140760,
     "user": {
      "displayName": "Guilherme Pereira",
      "photoUrl": "https://lh3.googleusercontent.com/a-/AOh14GiJeTA-Tb3G82peSFm9v4JRrXNbSL-XgXuXvtVGyA=s64",
      "userId": "18176795272890215445"
     },
     "user_tz": 180
    },
    "id": "Hay2CPgvf6Gl",
    "outputId": "72560d13-cb58-4490-fad0-1b12300c14d5"
   },
   "outputs": [
    {
     "data": {
      "text/plain": [
       "[<matplotlib.lines.Line2D at 0x7f1c6b516110>]"
      ]
     },
     "execution_count": 50,
     "metadata": {},
     "output_type": "execute_result"
    },
    {
     "data": {
      "image/png": "[encoded data removed]",
      "text/plain": [
       "<Figure size 432x288 with 1 Axes>"
      ]
     },
     "metadata": {},
     "output_type": "display_data"
    }
   ],
   "source": [
    "train_prediction_plot = np.empty_like(dataset)\n",
    "train_prediction_plot[:,:] = np.nan\n",
    "train_prediction_plot[SEQ_SIZE-1:len(predict_train)+SEQ_SIZE-1, :] = predict_train\n",
    "\n",
    "\n",
    "test_prediction_plot = np.empty_like(dataset)\n",
    "test_prediction_plot[:,:] = np.nan\n",
    "test_prediction_plot[len(dataset_train)+(SEQ_SIZE)-1:len(dataset)-2, :] = predict_test\n",
    "# testPredictPlot[len(train)+(length)-1:len(dataset)-1, :] = testPredict\n",
    "\n",
    "plt.plot(scaler.inverse_transform(dataset_scaled))\n",
    "plt.plot(train_prediction_plot)\n",
    "plt.plot(test_prediction_plot)"
   ]
  },
  {
   "cell_type": "code",
   "execution_count": null,
   "metadata": {
    "id": "YCi7QSmAkzEr"
   },
   "outputs": [],
   "source": []
  }
 ],
 "metadata": {
  "colab": {
   "authorship_tag": "ABX9TyOQ0PfhQ9fJarwIYRWqUQ8B",
   "mount_file_id": "1-L0hZrmbI5L5c3ftq_FKb82ZhxPjyGqE",
   "name": "TimeSeriesForecasting_lstm.ipynb",
   "provenance": []
  },
  "kernelspec": {
   "display_name": "Python 3",
   "language": "python",
   "name": "python3"
  },
  "language_info": {
   "codemirror_mode": {
    "name": "ipython",
    "version": 3
   },
   "file_extension": ".py",
   "mimetype": "text/x-python",
   "name": "python",
   "nbconvert_exporter": "python",
   "pygments_lexer": "ipython3",
   "version": "3.6.10"
  }
 },
 "nbformat": 4,
 "nbformat_minor": 1
}
